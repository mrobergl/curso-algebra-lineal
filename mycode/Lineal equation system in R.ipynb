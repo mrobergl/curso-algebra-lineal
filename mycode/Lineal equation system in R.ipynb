{
 "cells": [
  {
   "cell_type": "code",
   "execution_count": 9,
   "metadata": {},
   "outputs": [],
   "source": [
    "A <- rbind(c(1,1,2), c(2, 4, -3), c(3, 6, -5))\n",
    "AB <- rbind(c(1, 1, 2, 9), c(2, 4, -3, 1), c(3, 6, -5, 0))"
   ]
  },
  {
   "cell_type": "code",
   "execution_count": 8,
   "metadata": {},
   "outputs": [
    {
     "data": {
      "text/html": [
       "<table>\n",
       "<tbody>\n",
       "\t<tr><td>1 </td><td>1 </td><td> 2</td></tr>\n",
       "\t<tr><td>2 </td><td>4 </td><td>-3</td></tr>\n",
       "\t<tr><td>3 </td><td>6 </td><td>-5</td></tr>\n",
       "</tbody>\n",
       "</table>\n"
      ],
      "text/latex": [
       "\\begin{tabular}{lll}\n",
       "\t 1  & 1  &  2\\\\\n",
       "\t 2  & 4  & -3\\\\\n",
       "\t 3  & 6  & -5\\\\\n",
       "\\end{tabular}\n"
      ],
      "text/markdown": [
       "\n",
       "| 1  | 1  |  2 |\n",
       "| 2  | 4  | -3 |\n",
       "| 3  | 6  | -5 |\n",
       "\n"
      ],
      "text/plain": [
       "     [,1] [,2] [,3]\n",
       "[1,] 1    1     2  \n",
       "[2,] 2    4    -3  \n",
       "[3,] 3    6    -5  "
      ]
     },
     "metadata": {},
     "output_type": "display_data"
    }
   ],
   "source": [
    "A"
   ]
  },
  {
   "cell_type": "code",
   "execution_count": 10,
   "metadata": {},
   "outputs": [
    {
     "data": {
      "text/html": [
       "<table>\n",
       "<tbody>\n",
       "\t<tr><td>1 </td><td>1 </td><td> 2</td><td>9 </td></tr>\n",
       "\t<tr><td>2 </td><td>4 </td><td>-3</td><td>1 </td></tr>\n",
       "\t<tr><td>3 </td><td>6 </td><td>-5</td><td>0 </td></tr>\n",
       "</tbody>\n",
       "</table>\n"
      ],
      "text/latex": [
       "\\begin{tabular}{llll}\n",
       "\t 1  & 1  &  2 & 9 \\\\\n",
       "\t 2  & 4  & -3 & 1 \\\\\n",
       "\t 3  & 6  & -5 & 0 \\\\\n",
       "\\end{tabular}\n"
      ],
      "text/markdown": [
       "\n",
       "| 1  | 1  |  2 | 9  |\n",
       "| 2  | 4  | -3 | 1  |\n",
       "| 3  | 6  | -5 | 0  |\n",
       "\n"
      ],
      "text/plain": [
       "     [,1] [,2] [,3] [,4]\n",
       "[1,] 1    1     2   9   \n",
       "[2,] 2    4    -3   1   \n",
       "[3,] 3    6    -5   0   "
      ]
     },
     "metadata": {},
     "output_type": "display_data"
    }
   ],
   "source": [
    "AB"
   ]
  },
  {
   "cell_type": "code",
   "execution_count": 15,
   "metadata": {},
   "outputs": [
    {
     "data": {
      "text/html": [
       "3"
      ],
      "text/latex": [
       "3"
      ],
      "text/markdown": [
       "3"
      ],
      "text/plain": [
       "[1] 3"
      ]
     },
     "metadata": {},
     "output_type": "display_data"
    }
   ],
   "source": [
    "qr(A)$rank"
   ]
  },
  {
   "cell_type": "code",
   "execution_count": 16,
   "metadata": {},
   "outputs": [
    {
     "data": {
      "text/html": [
       "3"
      ],
      "text/latex": [
       "3"
      ],
      "text/markdown": [
       "3"
      ],
      "text/plain": [
       "[1] 3"
      ]
     },
     "metadata": {},
     "output_type": "display_data"
    }
   ],
   "source": [
    "qr(AB)$rank"
   ]
  },
  {
   "cell_type": "code",
   "execution_count": 17,
   "metadata": {},
   "outputs": [
    {
     "data": {
      "text/html": [
       "<table>\n",
       "<tbody>\n",
       "\t<tr><td> 2 </td><td>-17</td><td>11 </td></tr>\n",
       "\t<tr><td>-1 </td><td> 11</td><td>-7 </td></tr>\n",
       "\t<tr><td> 0 </td><td>  3</td><td>-2 </td></tr>\n",
       "</tbody>\n",
       "</table>\n"
      ],
      "text/latex": [
       "\\begin{tabular}{lll}\n",
       "\t  2  & -17 & 11 \\\\\n",
       "\t -1  &  11 & -7 \\\\\n",
       "\t  0  &   3 & -2 \\\\\n",
       "\\end{tabular}\n"
      ],
      "text/markdown": [
       "\n",
       "|  2  | -17 | 11  |\n",
       "| -1  |  11 | -7  |\n",
       "|  0  |   3 | -2  |\n",
       "\n"
      ],
      "text/plain": [
       "     [,1] [,2] [,3]\n",
       "[1,]  2   -17  11  \n",
       "[2,] -1    11  -7  \n",
       "[3,]  0     3  -2  "
      ]
     },
     "metadata": {},
     "output_type": "display_data"
    }
   ],
   "source": [
    "solve(A)"
   ]
  },
  {
   "cell_type": "code",
   "execution_count": 32,
   "metadata": {},
   "outputs": [],
   "source": [
    "A <- rbind(c(1,2,1,1), c(0,1,1,1), c(2,2,0,0), c(1,0,-1,1))\n",
    "AB <- rbind(c(1,2,1,1,0), c(0,1,1,1,1), c(2,2,0,0,-2), c(1,0,-1,1,-1))"
   ]
  },
  {
   "cell_type": "code",
   "execution_count": 33,
   "metadata": {},
   "outputs": [
    {
     "data": {
      "text/html": [
       "<table>\n",
       "<tbody>\n",
       "\t<tr><td>1 </td><td>2 </td><td> 1</td><td>1 </td></tr>\n",
       "\t<tr><td>0 </td><td>1 </td><td> 1</td><td>1 </td></tr>\n",
       "\t<tr><td>2 </td><td>2 </td><td> 0</td><td>0 </td></tr>\n",
       "\t<tr><td>1 </td><td>0 </td><td>-1</td><td>1 </td></tr>\n",
       "</tbody>\n",
       "</table>\n"
      ],
      "text/latex": [
       "\\begin{tabular}{llll}\n",
       "\t 1  & 2  &  1 & 1 \\\\\n",
       "\t 0  & 1  &  1 & 1 \\\\\n",
       "\t 2  & 2  &  0 & 0 \\\\\n",
       "\t 1  & 0  & -1 & 1 \\\\\n",
       "\\end{tabular}\n"
      ],
      "text/markdown": [
       "\n",
       "| 1  | 2  |  1 | 1  |\n",
       "| 0  | 1  |  1 | 1  |\n",
       "| 2  | 2  |  0 | 0  |\n",
       "| 1  | 0  | -1 | 1  |\n",
       "\n"
      ],
      "text/plain": [
       "     [,1] [,2] [,3] [,4]\n",
       "[1,] 1    2     1   1   \n",
       "[2,] 0    1     1   1   \n",
       "[3,] 2    2     0   0   \n",
       "[4,] 1    0    -1   1   "
      ]
     },
     "metadata": {},
     "output_type": "display_data"
    }
   ],
   "source": [
    "A"
   ]
  },
  {
   "cell_type": "code",
   "execution_count": 34,
   "metadata": {},
   "outputs": [
    {
     "data": {
      "text/html": [
       "<table>\n",
       "<tbody>\n",
       "\t<tr><td>1 </td><td>2 </td><td> 1</td><td>1 </td><td> 0</td></tr>\n",
       "\t<tr><td>0 </td><td>1 </td><td> 1</td><td>1 </td><td> 1</td></tr>\n",
       "\t<tr><td>2 </td><td>2 </td><td> 0</td><td>0 </td><td>-2</td></tr>\n",
       "\t<tr><td>1 </td><td>0 </td><td>-1</td><td>1 </td><td>-1</td></tr>\n",
       "</tbody>\n",
       "</table>\n"
      ],
      "text/latex": [
       "\\begin{tabular}{lllll}\n",
       "\t 1  & 2  &  1 & 1  &  0\\\\\n",
       "\t 0  & 1  &  1 & 1  &  1\\\\\n",
       "\t 2  & 2  &  0 & 0  & -2\\\\\n",
       "\t 1  & 0  & -1 & 1  & -1\\\\\n",
       "\\end{tabular}\n"
      ],
      "text/markdown": [
       "\n",
       "| 1  | 2  |  1 | 1  |  0 |\n",
       "| 0  | 1  |  1 | 1  |  1 |\n",
       "| 2  | 2  |  0 | 0  | -2 |\n",
       "| 1  | 0  | -1 | 1  | -1 |\n",
       "\n"
      ],
      "text/plain": [
       "     [,1] [,2] [,3] [,4] [,5]\n",
       "[1,] 1    2     1   1     0  \n",
       "[2,] 0    1     1   1     1  \n",
       "[3,] 2    2     0   0    -2  \n",
       "[4,] 1    0    -1   1    -1  "
      ]
     },
     "metadata": {},
     "output_type": "display_data"
    }
   ],
   "source": [
    "AB"
   ]
  },
  {
   "cell_type": "code",
   "execution_count": 35,
   "metadata": {},
   "outputs": [
    {
     "data": {
      "text/html": [
       "3"
      ],
      "text/latex": [
       "3"
      ],
      "text/markdown": [
       "3"
      ],
      "text/plain": [
       "[1] 3"
      ]
     },
     "metadata": {},
     "output_type": "display_data"
    }
   ],
   "source": [
    "qr(A)$rank"
   ]
  },
  {
   "cell_type": "code",
   "execution_count": 36,
   "metadata": {},
   "outputs": [
    {
     "data": {
      "text/html": [
       "3"
      ],
      "text/latex": [
       "3"
      ],
      "text/markdown": [
       "3"
      ],
      "text/plain": [
       "[1] 3"
      ]
     },
     "metadata": {},
     "output_type": "display_data"
    }
   ],
   "source": [
    "qr(AB)$rank"
   ]
  },
  {
   "cell_type": "code",
   "execution_count": 37,
   "metadata": {},
   "outputs": [
    {
     "data": {
      "text/html": [
       "<ol class=list-inline>\n",
       "\t<li>4</li>\n",
       "\t<li>4</li>\n",
       "</ol>\n"
      ],
      "text/latex": [
       "\\begin{enumerate*}\n",
       "\\item 4\n",
       "\\item 4\n",
       "\\end{enumerate*}\n"
      ],
      "text/markdown": [
       "1. 4\n",
       "2. 4\n",
       "\n",
       "\n"
      ],
      "text/plain": [
       "[1] 4 4"
      ]
     },
     "metadata": {},
     "output_type": "display_data"
    }
   ],
   "source": [
    "dim(A)"
   ]
  },
  {
   "cell_type": "code",
   "execution_count": 3,
   "metadata": {},
   "outputs": [],
   "source": [
    "A <- rbind(c(1,1), c(0,1), c(0,4))\n",
    "AB <- rbind(c(1,1,1), c(0,1,2), c(0,4,3))"
   ]
  },
  {
   "cell_type": "code",
   "execution_count": 8,
   "metadata": {},
   "outputs": [
    {
     "data": {
      "text/html": [
       "2"
      ],
      "text/latex": [
       "2"
      ],
      "text/markdown": [
       "2"
      ],
      "text/plain": [
       "[1] 2"
      ]
     },
     "metadata": {},
     "output_type": "display_data"
    }
   ],
   "source": [
    "qr(A)$rank"
   ]
  },
  {
   "cell_type": "code",
   "execution_count": 10,
   "metadata": {},
   "outputs": [
    {
     "data": {
      "text/html": [
       "3"
      ],
      "text/latex": [
       "3"
      ],
      "text/markdown": [
       "3"
      ],
      "text/plain": [
       "[1] 3"
      ]
     },
     "metadata": {},
     "output_type": "display_data"
    }
   ],
   "source": [
    "qr(AB)$rank"
   ]
  },
  {
   "cell_type": "raw",
   "metadata": {},
   "source": []
  }
 ],
 "metadata": {
  "kernelspec": {
   "display_name": "R [conda env:R]",
   "language": "R",
   "name": "conda-env-R-r"
  },
  "language_info": {
   "codemirror_mode": "r",
   "file_extension": ".r",
   "mimetype": "text/x-r-source",
   "name": "R",
   "pygments_lexer": "r",
   "version": "3.6.0"
  }
 },
 "nbformat": 4,
 "nbformat_minor": 2
}
